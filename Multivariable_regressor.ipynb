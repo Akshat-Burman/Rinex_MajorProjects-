{
  "nbformat": 4,
  "nbformat_minor": 0,
  "metadata": {
    "colab": {
      "provenance": [],
      "collapsed_sections": []
    },
    "kernelspec": {
      "name": "python3",
      "display_name": "Python 3"
    },
    "language_info": {
      "name": "python"
    }
  },
  "cells": [
    {
      "cell_type": "code",
      "source": [
        "import matplotlib.pyplot as plt\n",
        "import numpy as np"
      ],
      "metadata": {
        "id": "YmIgDQ1CdjxI"
      },
      "execution_count": 56,
      "outputs": []
    },
    {
      "cell_type": "code",
      "execution_count": 57,
      "metadata": {
        "colab": {
          "base_uri": "https://localhost:8080/",
          "height": 488
        },
        "id": "YmPj-AkJTVsB",
        "outputId": "1d062d34-187f-4279-f31e-e99502868944"
      },
      "outputs": [
        {
          "output_type": "execute_result",
          "data": {
            "text/plain": [
              "             u_q    coolant  stator_winding         u_d  stator_tooth  \\\n",
              "0      -0.450682  18.805172       19.086670   -0.350055     18.293219   \n",
              "1      -0.325737  18.818571       19.092390   -0.305803     18.294807   \n",
              "2      -0.440864  18.828770       19.089380   -0.372503     18.294094   \n",
              "3      -0.327026  18.835567       19.083031   -0.316199     18.292542   \n",
              "4      -0.471150  18.857033       19.082525   -0.332272     18.291428   \n",
              "...          ...        ...             ...         ...           ...   \n",
              "55953  27.639210  19.375916      103.863991 -128.161346     77.511452   \n",
              "55954  27.669556  19.434158      103.948357 -128.147598     77.517960   \n",
              "55955  27.710018  19.484137      103.954788 -128.152359     77.514587   \n",
              "55956  27.713411  19.495962      103.947815 -128.173584     77.707138   \n",
              "55957  27.759415  19.492443      103.937996 -128.155594     77.826485   \n",
              "\n",
              "       motor_speed         i_d         i_q         pm  stator_yoke    ambient  \\\n",
              "0         0.002866    0.004419    0.000328  24.554214    18.316547  19.850691   \n",
              "1         0.000257    0.000606   -0.000785  24.538078    18.314955  19.850672   \n",
              "2         0.002355    0.001290    0.000386  24.544693    18.326307  19.850657   \n",
              "3         0.006105    0.000026    0.002046  24.554018    18.330833  19.850647   \n",
              "4         0.003133   -0.064317    0.037184  24.565397    18.326662  19.850639   \n",
              "...            ...         ...         ...        ...          ...        ...   \n",
              "55953  3779.966309 -193.721313  102.636971  71.605919    53.462811  19.847910   \n",
              "55954  3779.971924 -193.725418  102.637360  71.613289    53.427494  19.848679   \n",
              "55955  3779.973389 -193.690231  102.620354  71.624107    53.433929  19.849228   \n",
              "55956  3779.974365 -193.702042  102.622612  71.659119    53.453362  19.849623   \n",
              "55957  3779.967285 -193.652069  102.600494  71.661995    53.470615  19.849900   \n",
              "\n",
              "          torque  profile_id  \n",
              "0       0.187101        17.0  \n",
              "1       0.245417        17.0  \n",
              "2       0.176615        17.0  \n",
              "3       0.238303        17.0  \n",
              "4       0.208197        17.0  \n",
              "...          ...         ...  \n",
              "55953  98.501396        32.0  \n",
              "55954  98.483864        32.0  \n",
              "55955  98.468536        32.0  \n",
              "55956  98.469452        32.0  \n",
              "55957        NaN         NaN  \n",
              "\n",
              "[55958 rows x 13 columns]"
            ],
            "text/html": [
              "\n",
              "  <div id=\"df-2c893533-9060-40ec-ad5d-52fa1bdd4f69\">\n",
              "    <div class=\"colab-df-container\">\n",
              "      <div>\n",
              "<style scoped>\n",
              "    .dataframe tbody tr th:only-of-type {\n",
              "        vertical-align: middle;\n",
              "    }\n",
              "\n",
              "    .dataframe tbody tr th {\n",
              "        vertical-align: top;\n",
              "    }\n",
              "\n",
              "    .dataframe thead th {\n",
              "        text-align: right;\n",
              "    }\n",
              "</style>\n",
              "<table border=\"1\" class=\"dataframe\">\n",
              "  <thead>\n",
              "    <tr style=\"text-align: right;\">\n",
              "      <th></th>\n",
              "      <th>u_q</th>\n",
              "      <th>coolant</th>\n",
              "      <th>stator_winding</th>\n",
              "      <th>u_d</th>\n",
              "      <th>stator_tooth</th>\n",
              "      <th>motor_speed</th>\n",
              "      <th>i_d</th>\n",
              "      <th>i_q</th>\n",
              "      <th>pm</th>\n",
              "      <th>stator_yoke</th>\n",
              "      <th>ambient</th>\n",
              "      <th>torque</th>\n",
              "      <th>profile_id</th>\n",
              "    </tr>\n",
              "  </thead>\n",
              "  <tbody>\n",
              "    <tr>\n",
              "      <th>0</th>\n",
              "      <td>-0.450682</td>\n",
              "      <td>18.805172</td>\n",
              "      <td>19.086670</td>\n",
              "      <td>-0.350055</td>\n",
              "      <td>18.293219</td>\n",
              "      <td>0.002866</td>\n",
              "      <td>0.004419</td>\n",
              "      <td>0.000328</td>\n",
              "      <td>24.554214</td>\n",
              "      <td>18.316547</td>\n",
              "      <td>19.850691</td>\n",
              "      <td>0.187101</td>\n",
              "      <td>17.0</td>\n",
              "    </tr>\n",
              "    <tr>\n",
              "      <th>1</th>\n",
              "      <td>-0.325737</td>\n",
              "      <td>18.818571</td>\n",
              "      <td>19.092390</td>\n",
              "      <td>-0.305803</td>\n",
              "      <td>18.294807</td>\n",
              "      <td>0.000257</td>\n",
              "      <td>0.000606</td>\n",
              "      <td>-0.000785</td>\n",
              "      <td>24.538078</td>\n",
              "      <td>18.314955</td>\n",
              "      <td>19.850672</td>\n",
              "      <td>0.245417</td>\n",
              "      <td>17.0</td>\n",
              "    </tr>\n",
              "    <tr>\n",
              "      <th>2</th>\n",
              "      <td>-0.440864</td>\n",
              "      <td>18.828770</td>\n",
              "      <td>19.089380</td>\n",
              "      <td>-0.372503</td>\n",
              "      <td>18.294094</td>\n",
              "      <td>0.002355</td>\n",
              "      <td>0.001290</td>\n",
              "      <td>0.000386</td>\n",
              "      <td>24.544693</td>\n",
              "      <td>18.326307</td>\n",
              "      <td>19.850657</td>\n",
              "      <td>0.176615</td>\n",
              "      <td>17.0</td>\n",
              "    </tr>\n",
              "    <tr>\n",
              "      <th>3</th>\n",
              "      <td>-0.327026</td>\n",
              "      <td>18.835567</td>\n",
              "      <td>19.083031</td>\n",
              "      <td>-0.316199</td>\n",
              "      <td>18.292542</td>\n",
              "      <td>0.006105</td>\n",
              "      <td>0.000026</td>\n",
              "      <td>0.002046</td>\n",
              "      <td>24.554018</td>\n",
              "      <td>18.330833</td>\n",
              "      <td>19.850647</td>\n",
              "      <td>0.238303</td>\n",
              "      <td>17.0</td>\n",
              "    </tr>\n",
              "    <tr>\n",
              "      <th>4</th>\n",
              "      <td>-0.471150</td>\n",
              "      <td>18.857033</td>\n",
              "      <td>19.082525</td>\n",
              "      <td>-0.332272</td>\n",
              "      <td>18.291428</td>\n",
              "      <td>0.003133</td>\n",
              "      <td>-0.064317</td>\n",
              "      <td>0.037184</td>\n",
              "      <td>24.565397</td>\n",
              "      <td>18.326662</td>\n",
              "      <td>19.850639</td>\n",
              "      <td>0.208197</td>\n",
              "      <td>17.0</td>\n",
              "    </tr>\n",
              "    <tr>\n",
              "      <th>...</th>\n",
              "      <td>...</td>\n",
              "      <td>...</td>\n",
              "      <td>...</td>\n",
              "      <td>...</td>\n",
              "      <td>...</td>\n",
              "      <td>...</td>\n",
              "      <td>...</td>\n",
              "      <td>...</td>\n",
              "      <td>...</td>\n",
              "      <td>...</td>\n",
              "      <td>...</td>\n",
              "      <td>...</td>\n",
              "      <td>...</td>\n",
              "    </tr>\n",
              "    <tr>\n",
              "      <th>55953</th>\n",
              "      <td>27.639210</td>\n",
              "      <td>19.375916</td>\n",
              "      <td>103.863991</td>\n",
              "      <td>-128.161346</td>\n",
              "      <td>77.511452</td>\n",
              "      <td>3779.966309</td>\n",
              "      <td>-193.721313</td>\n",
              "      <td>102.636971</td>\n",
              "      <td>71.605919</td>\n",
              "      <td>53.462811</td>\n",
              "      <td>19.847910</td>\n",
              "      <td>98.501396</td>\n",
              "      <td>32.0</td>\n",
              "    </tr>\n",
              "    <tr>\n",
              "      <th>55954</th>\n",
              "      <td>27.669556</td>\n",
              "      <td>19.434158</td>\n",
              "      <td>103.948357</td>\n",
              "      <td>-128.147598</td>\n",
              "      <td>77.517960</td>\n",
              "      <td>3779.971924</td>\n",
              "      <td>-193.725418</td>\n",
              "      <td>102.637360</td>\n",
              "      <td>71.613289</td>\n",
              "      <td>53.427494</td>\n",
              "      <td>19.848679</td>\n",
              "      <td>98.483864</td>\n",
              "      <td>32.0</td>\n",
              "    </tr>\n",
              "    <tr>\n",
              "      <th>55955</th>\n",
              "      <td>27.710018</td>\n",
              "      <td>19.484137</td>\n",
              "      <td>103.954788</td>\n",
              "      <td>-128.152359</td>\n",
              "      <td>77.514587</td>\n",
              "      <td>3779.973389</td>\n",
              "      <td>-193.690231</td>\n",
              "      <td>102.620354</td>\n",
              "      <td>71.624107</td>\n",
              "      <td>53.433929</td>\n",
              "      <td>19.849228</td>\n",
              "      <td>98.468536</td>\n",
              "      <td>32.0</td>\n",
              "    </tr>\n",
              "    <tr>\n",
              "      <th>55956</th>\n",
              "      <td>27.713411</td>\n",
              "      <td>19.495962</td>\n",
              "      <td>103.947815</td>\n",
              "      <td>-128.173584</td>\n",
              "      <td>77.707138</td>\n",
              "      <td>3779.974365</td>\n",
              "      <td>-193.702042</td>\n",
              "      <td>102.622612</td>\n",
              "      <td>71.659119</td>\n",
              "      <td>53.453362</td>\n",
              "      <td>19.849623</td>\n",
              "      <td>98.469452</td>\n",
              "      <td>32.0</td>\n",
              "    </tr>\n",
              "    <tr>\n",
              "      <th>55957</th>\n",
              "      <td>27.759415</td>\n",
              "      <td>19.492443</td>\n",
              "      <td>103.937996</td>\n",
              "      <td>-128.155594</td>\n",
              "      <td>77.826485</td>\n",
              "      <td>3779.967285</td>\n",
              "      <td>-193.652069</td>\n",
              "      <td>102.600494</td>\n",
              "      <td>71.661995</td>\n",
              "      <td>53.470615</td>\n",
              "      <td>19.849900</td>\n",
              "      <td>NaN</td>\n",
              "      <td>NaN</td>\n",
              "    </tr>\n",
              "  </tbody>\n",
              "</table>\n",
              "<p>55958 rows × 13 columns</p>\n",
              "</div>\n",
              "      <button class=\"colab-df-convert\" onclick=\"convertToInteractive('df-2c893533-9060-40ec-ad5d-52fa1bdd4f69')\"\n",
              "              title=\"Convert this dataframe to an interactive table.\"\n",
              "              style=\"display:none;\">\n",
              "        \n",
              "  <svg xmlns=\"http://www.w3.org/2000/svg\" height=\"24px\"viewBox=\"0 0 24 24\"\n",
              "       width=\"24px\">\n",
              "    <path d=\"M0 0h24v24H0V0z\" fill=\"none\"/>\n",
              "    <path d=\"M18.56 5.44l.94 2.06.94-2.06 2.06-.94-2.06-.94-.94-2.06-.94 2.06-2.06.94zm-11 1L8.5 8.5l.94-2.06 2.06-.94-2.06-.94L8.5 2.5l-.94 2.06-2.06.94zm10 10l.94 2.06.94-2.06 2.06-.94-2.06-.94-.94-2.06-.94 2.06-2.06.94z\"/><path d=\"M17.41 7.96l-1.37-1.37c-.4-.4-.92-.59-1.43-.59-.52 0-1.04.2-1.43.59L10.3 9.45l-7.72 7.72c-.78.78-.78 2.05 0 2.83L4 21.41c.39.39.9.59 1.41.59.51 0 1.02-.2 1.41-.59l7.78-7.78 2.81-2.81c.8-.78.8-2.07 0-2.86zM5.41 20L4 18.59l7.72-7.72 1.47 1.35L5.41 20z\"/>\n",
              "  </svg>\n",
              "      </button>\n",
              "      \n",
              "  <style>\n",
              "    .colab-df-container {\n",
              "      display:flex;\n",
              "      flex-wrap:wrap;\n",
              "      gap: 12px;\n",
              "    }\n",
              "\n",
              "    .colab-df-convert {\n",
              "      background-color: #E8F0FE;\n",
              "      border: none;\n",
              "      border-radius: 50%;\n",
              "      cursor: pointer;\n",
              "      display: none;\n",
              "      fill: #1967D2;\n",
              "      height: 32px;\n",
              "      padding: 0 0 0 0;\n",
              "      width: 32px;\n",
              "    }\n",
              "\n",
              "    .colab-df-convert:hover {\n",
              "      background-color: #E2EBFA;\n",
              "      box-shadow: 0px 1px 2px rgba(60, 64, 67, 0.3), 0px 1px 3px 1px rgba(60, 64, 67, 0.15);\n",
              "      fill: #174EA6;\n",
              "    }\n",
              "\n",
              "    [theme=dark] .colab-df-convert {\n",
              "      background-color: #3B4455;\n",
              "      fill: #D2E3FC;\n",
              "    }\n",
              "\n",
              "    [theme=dark] .colab-df-convert:hover {\n",
              "      background-color: #434B5C;\n",
              "      box-shadow: 0px 1px 3px 1px rgba(0, 0, 0, 0.15);\n",
              "      filter: drop-shadow(0px 1px 2px rgba(0, 0, 0, 0.3));\n",
              "      fill: #FFFFFF;\n",
              "    }\n",
              "  </style>\n",
              "\n",
              "      <script>\n",
              "        const buttonEl =\n",
              "          document.querySelector('#df-2c893533-9060-40ec-ad5d-52fa1bdd4f69 button.colab-df-convert');\n",
              "        buttonEl.style.display =\n",
              "          google.colab.kernel.accessAllowed ? 'block' : 'none';\n",
              "\n",
              "        async function convertToInteractive(key) {\n",
              "          const element = document.querySelector('#df-2c893533-9060-40ec-ad5d-52fa1bdd4f69');\n",
              "          const dataTable =\n",
              "            await google.colab.kernel.invokeFunction('convertToInteractive',\n",
              "                                                     [key], {});\n",
              "          if (!dataTable) return;\n",
              "\n",
              "          const docLinkHtml = 'Like what you see? Visit the ' +\n",
              "            '<a target=\"_blank\" href=https://colab.research.google.com/notebooks/data_table.ipynb>data table notebook</a>'\n",
              "            + ' to learn more about interactive tables.';\n",
              "          element.innerHTML = '';\n",
              "          dataTable['output_type'] = 'display_data';\n",
              "          await google.colab.output.renderOutput(dataTable, element);\n",
              "          const docLink = document.createElement('div');\n",
              "          docLink.innerHTML = docLinkHtml;\n",
              "          element.appendChild(docLink);\n",
              "        }\n",
              "      </script>\n",
              "    </div>\n",
              "  </div>\n",
              "  "
            ]
          },
          "metadata": {},
          "execution_count": 57
        }
      ],
      "source": [
        "import pandas as pd\n",
        "df= pd.read_csv('/content/measures_v2.csv')\n",
        "df"
      ]
    },
    {
      "cell_type": "code",
      "source": [
        "df.head(10)"
      ],
      "metadata": {
        "colab": {
          "base_uri": "https://localhost:8080/",
          "height": 427
        },
        "id": "t98tBfAsZIQH",
        "outputId": "8de5e110-e9ea-4834-bc83-4cd12d882f5f"
      },
      "execution_count": 58,
      "outputs": [
        {
          "output_type": "execute_result",
          "data": {
            "text/plain": [
              "        u_q    coolant  stator_winding       u_d  stator_tooth  motor_speed  \\\n",
              "0 -0.450682  18.805172       19.086670 -0.350055     18.293219     0.002866   \n",
              "1 -0.325737  18.818571       19.092390 -0.305803     18.294807     0.000257   \n",
              "2 -0.440864  18.828770       19.089380 -0.372503     18.294094     0.002355   \n",
              "3 -0.327026  18.835567       19.083031 -0.316199     18.292542     0.006105   \n",
              "4 -0.471150  18.857033       19.082525 -0.332272     18.291428     0.003133   \n",
              "5 -0.538973  18.901548       19.077108  0.009147     18.290628     0.009636   \n",
              "6 -0.653148  18.941711       19.074583  0.238890     18.292524     0.001337   \n",
              "7 -0.758392  18.960861       19.082499  0.395099     18.294041     0.001422   \n",
              "8 -0.727128  18.973545       19.085533  0.546623     18.291964     0.000577   \n",
              "9 -0.874307  18.987812       19.076025  0.578944     18.287233    -0.001248   \n",
              "\n",
              "        i_d       i_q         pm  stator_yoke    ambient    torque  profile_id  \n",
              "0  0.004419  0.000328  24.554214    18.316547  19.850691  0.187101        17.0  \n",
              "1  0.000606 -0.000785  24.538078    18.314955  19.850672  0.245417        17.0  \n",
              "2  0.001290  0.000386  24.544693    18.326307  19.850657  0.176615        17.0  \n",
              "3  0.000026  0.002046  24.554018    18.330833  19.850647  0.238303        17.0  \n",
              "4 -0.064317  0.037184  24.565397    18.326662  19.850639  0.208197        17.0  \n",
              "5 -0.613635  0.336747  24.573601    18.323862  19.850634  0.476218        17.0  \n",
              "6 -1.005647  0.554211  24.576578    18.321936  19.850630  0.670015        17.0  \n",
              "7 -1.288384  0.706370  24.574949    18.314655  19.850628  0.752035        17.0  \n",
              "8 -1.490530  0.817339  24.567080    18.306925  19.850626  0.910541        17.0  \n",
              "9 -1.634464  0.898013  24.553242    18.301733  19.850624  0.924010        17.0  "
            ],
            "text/html": [
              "\n",
              "  <div id=\"df-379e3c16-fae3-477c-99d4-2c480f0ab2f9\">\n",
              "    <div class=\"colab-df-container\">\n",
              "      <div>\n",
              "<style scoped>\n",
              "    .dataframe tbody tr th:only-of-type {\n",
              "        vertical-align: middle;\n",
              "    }\n",
              "\n",
              "    .dataframe tbody tr th {\n",
              "        vertical-align: top;\n",
              "    }\n",
              "\n",
              "    .dataframe thead th {\n",
              "        text-align: right;\n",
              "    }\n",
              "</style>\n",
              "<table border=\"1\" class=\"dataframe\">\n",
              "  <thead>\n",
              "    <tr style=\"text-align: right;\">\n",
              "      <th></th>\n",
              "      <th>u_q</th>\n",
              "      <th>coolant</th>\n",
              "      <th>stator_winding</th>\n",
              "      <th>u_d</th>\n",
              "      <th>stator_tooth</th>\n",
              "      <th>motor_speed</th>\n",
              "      <th>i_d</th>\n",
              "      <th>i_q</th>\n",
              "      <th>pm</th>\n",
              "      <th>stator_yoke</th>\n",
              "      <th>ambient</th>\n",
              "      <th>torque</th>\n",
              "      <th>profile_id</th>\n",
              "    </tr>\n",
              "  </thead>\n",
              "  <tbody>\n",
              "    <tr>\n",
              "      <th>0</th>\n",
              "      <td>-0.450682</td>\n",
              "      <td>18.805172</td>\n",
              "      <td>19.086670</td>\n",
              "      <td>-0.350055</td>\n",
              "      <td>18.293219</td>\n",
              "      <td>0.002866</td>\n",
              "      <td>0.004419</td>\n",
              "      <td>0.000328</td>\n",
              "      <td>24.554214</td>\n",
              "      <td>18.316547</td>\n",
              "      <td>19.850691</td>\n",
              "      <td>0.187101</td>\n",
              "      <td>17.0</td>\n",
              "    </tr>\n",
              "    <tr>\n",
              "      <th>1</th>\n",
              "      <td>-0.325737</td>\n",
              "      <td>18.818571</td>\n",
              "      <td>19.092390</td>\n",
              "      <td>-0.305803</td>\n",
              "      <td>18.294807</td>\n",
              "      <td>0.000257</td>\n",
              "      <td>0.000606</td>\n",
              "      <td>-0.000785</td>\n",
              "      <td>24.538078</td>\n",
              "      <td>18.314955</td>\n",
              "      <td>19.850672</td>\n",
              "      <td>0.245417</td>\n",
              "      <td>17.0</td>\n",
              "    </tr>\n",
              "    <tr>\n",
              "      <th>2</th>\n",
              "      <td>-0.440864</td>\n",
              "      <td>18.828770</td>\n",
              "      <td>19.089380</td>\n",
              "      <td>-0.372503</td>\n",
              "      <td>18.294094</td>\n",
              "      <td>0.002355</td>\n",
              "      <td>0.001290</td>\n",
              "      <td>0.000386</td>\n",
              "      <td>24.544693</td>\n",
              "      <td>18.326307</td>\n",
              "      <td>19.850657</td>\n",
              "      <td>0.176615</td>\n",
              "      <td>17.0</td>\n",
              "    </tr>\n",
              "    <tr>\n",
              "      <th>3</th>\n",
              "      <td>-0.327026</td>\n",
              "      <td>18.835567</td>\n",
              "      <td>19.083031</td>\n",
              "      <td>-0.316199</td>\n",
              "      <td>18.292542</td>\n",
              "      <td>0.006105</td>\n",
              "      <td>0.000026</td>\n",
              "      <td>0.002046</td>\n",
              "      <td>24.554018</td>\n",
              "      <td>18.330833</td>\n",
              "      <td>19.850647</td>\n",
              "      <td>0.238303</td>\n",
              "      <td>17.0</td>\n",
              "    </tr>\n",
              "    <tr>\n",
              "      <th>4</th>\n",
              "      <td>-0.471150</td>\n",
              "      <td>18.857033</td>\n",
              "      <td>19.082525</td>\n",
              "      <td>-0.332272</td>\n",
              "      <td>18.291428</td>\n",
              "      <td>0.003133</td>\n",
              "      <td>-0.064317</td>\n",
              "      <td>0.037184</td>\n",
              "      <td>24.565397</td>\n",
              "      <td>18.326662</td>\n",
              "      <td>19.850639</td>\n",
              "      <td>0.208197</td>\n",
              "      <td>17.0</td>\n",
              "    </tr>\n",
              "    <tr>\n",
              "      <th>5</th>\n",
              "      <td>-0.538973</td>\n",
              "      <td>18.901548</td>\n",
              "      <td>19.077108</td>\n",
              "      <td>0.009147</td>\n",
              "      <td>18.290628</td>\n",
              "      <td>0.009636</td>\n",
              "      <td>-0.613635</td>\n",
              "      <td>0.336747</td>\n",
              "      <td>24.573601</td>\n",
              "      <td>18.323862</td>\n",
              "      <td>19.850634</td>\n",
              "      <td>0.476218</td>\n",
              "      <td>17.0</td>\n",
              "    </tr>\n",
              "    <tr>\n",
              "      <th>6</th>\n",
              "      <td>-0.653148</td>\n",
              "      <td>18.941711</td>\n",
              "      <td>19.074583</td>\n",
              "      <td>0.238890</td>\n",
              "      <td>18.292524</td>\n",
              "      <td>0.001337</td>\n",
              "      <td>-1.005647</td>\n",
              "      <td>0.554211</td>\n",
              "      <td>24.576578</td>\n",
              "      <td>18.321936</td>\n",
              "      <td>19.850630</td>\n",
              "      <td>0.670015</td>\n",
              "      <td>17.0</td>\n",
              "    </tr>\n",
              "    <tr>\n",
              "      <th>7</th>\n",
              "      <td>-0.758392</td>\n",
              "      <td>18.960861</td>\n",
              "      <td>19.082499</td>\n",
              "      <td>0.395099</td>\n",
              "      <td>18.294041</td>\n",
              "      <td>0.001422</td>\n",
              "      <td>-1.288384</td>\n",
              "      <td>0.706370</td>\n",
              "      <td>24.574949</td>\n",
              "      <td>18.314655</td>\n",
              "      <td>19.850628</td>\n",
              "      <td>0.752035</td>\n",
              "      <td>17.0</td>\n",
              "    </tr>\n",
              "    <tr>\n",
              "      <th>8</th>\n",
              "      <td>-0.727128</td>\n",
              "      <td>18.973545</td>\n",
              "      <td>19.085533</td>\n",
              "      <td>0.546623</td>\n",
              "      <td>18.291964</td>\n",
              "      <td>0.000577</td>\n",
              "      <td>-1.490530</td>\n",
              "      <td>0.817339</td>\n",
              "      <td>24.567080</td>\n",
              "      <td>18.306925</td>\n",
              "      <td>19.850626</td>\n",
              "      <td>0.910541</td>\n",
              "      <td>17.0</td>\n",
              "    </tr>\n",
              "    <tr>\n",
              "      <th>9</th>\n",
              "      <td>-0.874307</td>\n",
              "      <td>18.987812</td>\n",
              "      <td>19.076025</td>\n",
              "      <td>0.578944</td>\n",
              "      <td>18.287233</td>\n",
              "      <td>-0.001248</td>\n",
              "      <td>-1.634464</td>\n",
              "      <td>0.898013</td>\n",
              "      <td>24.553242</td>\n",
              "      <td>18.301733</td>\n",
              "      <td>19.850624</td>\n",
              "      <td>0.924010</td>\n",
              "      <td>17.0</td>\n",
              "    </tr>\n",
              "  </tbody>\n",
              "</table>\n",
              "</div>\n",
              "      <button class=\"colab-df-convert\" onclick=\"convertToInteractive('df-379e3c16-fae3-477c-99d4-2c480f0ab2f9')\"\n",
              "              title=\"Convert this dataframe to an interactive table.\"\n",
              "              style=\"display:none;\">\n",
              "        \n",
              "  <svg xmlns=\"http://www.w3.org/2000/svg\" height=\"24px\"viewBox=\"0 0 24 24\"\n",
              "       width=\"24px\">\n",
              "    <path d=\"M0 0h24v24H0V0z\" fill=\"none\"/>\n",
              "    <path d=\"M18.56 5.44l.94 2.06.94-2.06 2.06-.94-2.06-.94-.94-2.06-.94 2.06-2.06.94zm-11 1L8.5 8.5l.94-2.06 2.06-.94-2.06-.94L8.5 2.5l-.94 2.06-2.06.94zm10 10l.94 2.06.94-2.06 2.06-.94-2.06-.94-.94-2.06-.94 2.06-2.06.94z\"/><path d=\"M17.41 7.96l-1.37-1.37c-.4-.4-.92-.59-1.43-.59-.52 0-1.04.2-1.43.59L10.3 9.45l-7.72 7.72c-.78.78-.78 2.05 0 2.83L4 21.41c.39.39.9.59 1.41.59.51 0 1.02-.2 1.41-.59l7.78-7.78 2.81-2.81c.8-.78.8-2.07 0-2.86zM5.41 20L4 18.59l7.72-7.72 1.47 1.35L5.41 20z\"/>\n",
              "  </svg>\n",
              "      </button>\n",
              "      \n",
              "  <style>\n",
              "    .colab-df-container {\n",
              "      display:flex;\n",
              "      flex-wrap:wrap;\n",
              "      gap: 12px;\n",
              "    }\n",
              "\n",
              "    .colab-df-convert {\n",
              "      background-color: #E8F0FE;\n",
              "      border: none;\n",
              "      border-radius: 50%;\n",
              "      cursor: pointer;\n",
              "      display: none;\n",
              "      fill: #1967D2;\n",
              "      height: 32px;\n",
              "      padding: 0 0 0 0;\n",
              "      width: 32px;\n",
              "    }\n",
              "\n",
              "    .colab-df-convert:hover {\n",
              "      background-color: #E2EBFA;\n",
              "      box-shadow: 0px 1px 2px rgba(60, 64, 67, 0.3), 0px 1px 3px 1px rgba(60, 64, 67, 0.15);\n",
              "      fill: #174EA6;\n",
              "    }\n",
              "\n",
              "    [theme=dark] .colab-df-convert {\n",
              "      background-color: #3B4455;\n",
              "      fill: #D2E3FC;\n",
              "    }\n",
              "\n",
              "    [theme=dark] .colab-df-convert:hover {\n",
              "      background-color: #434B5C;\n",
              "      box-shadow: 0px 1px 3px 1px rgba(0, 0, 0, 0.15);\n",
              "      filter: drop-shadow(0px 1px 2px rgba(0, 0, 0, 0.3));\n",
              "      fill: #FFFFFF;\n",
              "    }\n",
              "  </style>\n",
              "\n",
              "      <script>\n",
              "        const buttonEl =\n",
              "          document.querySelector('#df-379e3c16-fae3-477c-99d4-2c480f0ab2f9 button.colab-df-convert');\n",
              "        buttonEl.style.display =\n",
              "          google.colab.kernel.accessAllowed ? 'block' : 'none';\n",
              "\n",
              "        async function convertToInteractive(key) {\n",
              "          const element = document.querySelector('#df-379e3c16-fae3-477c-99d4-2c480f0ab2f9');\n",
              "          const dataTable =\n",
              "            await google.colab.kernel.invokeFunction('convertToInteractive',\n",
              "                                                     [key], {});\n",
              "          if (!dataTable) return;\n",
              "\n",
              "          const docLinkHtml = 'Like what you see? Visit the ' +\n",
              "            '<a target=\"_blank\" href=https://colab.research.google.com/notebooks/data_table.ipynb>data table notebook</a>'\n",
              "            + ' to learn more about interactive tables.';\n",
              "          element.innerHTML = '';\n",
              "          dataTable['output_type'] = 'display_data';\n",
              "          await google.colab.output.renderOutput(dataTable, element);\n",
              "          const docLink = document.createElement('div');\n",
              "          docLink.innerHTML = docLinkHtml;\n",
              "          element.appendChild(docLink);\n",
              "        }\n",
              "      </script>\n",
              "    </div>\n",
              "  </div>\n",
              "  "
            ]
          },
          "metadata": {},
          "execution_count": 58
        }
      ]
    },
    {
      "cell_type": "code",
      "source": [
        "df.info()"
      ],
      "metadata": {
        "colab": {
          "base_uri": "https://localhost:8080/",
          "height": 0
        },
        "id": "0jn431yeZQ-3",
        "outputId": "a1d8f9eb-d789-4ba5-d06e-fa983ce1d9c2"
      },
      "execution_count": 59,
      "outputs": [
        {
          "output_type": "stream",
          "name": "stdout",
          "text": [
            "<class 'pandas.core.frame.DataFrame'>\n",
            "RangeIndex: 55958 entries, 0 to 55957\n",
            "Data columns (total 13 columns):\n",
            " #   Column          Non-Null Count  Dtype  \n",
            "---  ------          --------------  -----  \n",
            " 0   u_q             55958 non-null  float64\n",
            " 1   coolant         55958 non-null  float64\n",
            " 2   stator_winding  55958 non-null  float64\n",
            " 3   u_d             55958 non-null  float64\n",
            " 4   stator_tooth    55958 non-null  float64\n",
            " 5   motor_speed     55958 non-null  float64\n",
            " 6   i_d             55958 non-null  float64\n",
            " 7   i_q             55958 non-null  float64\n",
            " 8   pm              55958 non-null  float64\n",
            " 9   stator_yoke     55958 non-null  float64\n",
            " 10  ambient         55958 non-null  float64\n",
            " 11  torque          55957 non-null  float64\n",
            " 12  profile_id      55957 non-null  float64\n",
            "dtypes: float64(13)\n",
            "memory usage: 5.6 MB\n"
          ]
        }
      ]
    },
    {
      "cell_type": "code",
      "source": [
        "df.shape"
      ],
      "metadata": {
        "colab": {
          "base_uri": "https://localhost:8080/",
          "height": 0
        },
        "id": "HZUPfJz9ZXbP",
        "outputId": "19066b6c-d9b2-486e-f0b5-4229caa35cdd"
      },
      "execution_count": 60,
      "outputs": [
        {
          "output_type": "execute_result",
          "data": {
            "text/plain": [
              "(55958, 13)"
            ]
          },
          "metadata": {},
          "execution_count": 60
        }
      ]
    },
    {
      "cell_type": "code",
      "source": [
        "df.size"
      ],
      "metadata": {
        "colab": {
          "base_uri": "https://localhost:8080/",
          "height": 0
        },
        "id": "1Op_LU2dZbMX",
        "outputId": "b86d4b5b-68f4-46dd-be3c-3ed26196d623"
      },
      "execution_count": 61,
      "outputs": [
        {
          "output_type": "execute_result",
          "data": {
            "text/plain": [
              "727454"
            ]
          },
          "metadata": {},
          "execution_count": 61
        }
      ]
    },
    {
      "cell_type": "code",
      "source": [
        "df.isnull().sum()"
      ],
      "metadata": {
        "colab": {
          "base_uri": "https://localhost:8080/",
          "height": 0
        },
        "id": "waOmTLh5ZdJv",
        "outputId": "2aa3d5c0-259f-4f18-8d0d-5832bde0587c"
      },
      "execution_count": 62,
      "outputs": [
        {
          "output_type": "execute_result",
          "data": {
            "text/plain": [
              "u_q               0\n",
              "coolant           0\n",
              "stator_winding    0\n",
              "u_d               0\n",
              "stator_tooth      0\n",
              "motor_speed       0\n",
              "i_d               0\n",
              "i_q               0\n",
              "pm                0\n",
              "stator_yoke       0\n",
              "ambient           0\n",
              "torque            1\n",
              "profile_id        1\n",
              "dtype: int64"
            ]
          },
          "metadata": {},
          "execution_count": 62
        }
      ]
    },
    {
      "cell_type": "code",
      "source": [
        "x= df['motor_speed'].to_numpy()\n",
        "x= np.sort(x)\n",
        "y= df['coolant'].to_numpy()\n",
        "y= np.sort(y)\n",
        "plt.plot(x,y)                       #Data visualisation\n",
        "plt.xlabel('Motor Speed (rpm)')\n",
        "plt.ylabel('Coolant Temperature (°C)')"
      ],
      "metadata": {
        "colab": {
          "base_uri": "https://localhost:8080/",
          "height": 296
        },
        "id": "o_HT4Pi2ZjR2",
        "outputId": "69ba587f-008d-43e5-d7ec-496917b16e20"
      },
      "execution_count": 63,
      "outputs": [
        {
          "output_type": "execute_result",
          "data": {
            "text/plain": [
              "Text(0, 0.5, 'Coolant Temperature (°C)')"
            ]
          },
          "metadata": {},
          "execution_count": 63
        },
        {
          "output_type": "display_data",
          "data": {
            "text/plain": [
              "<Figure size 432x288 with 1 Axes>"
            ],
            "image/png": "[encoded data removed]"
          },
          "metadata": {
            "needs_background": "light"
          }
        }
      ]
    },
    {
      "cell_type": "code",
      "source": [
        "x1= df['torque'].to_numpy()\n",
        "x1= np.sort(x1)\n",
        "y= df['coolant'].to_numpy()\n",
        "y= np.sort(y)\n",
        "plt.plot(x1,y)                    #Data visualisation\n",
        "plt.xlabel('Torque')\n",
        "plt.ylabel('Coolant Temperature (°C)')"
      ],
      "metadata": {
        "colab": {
          "base_uri": "https://localhost:8080/",
          "height": 296
        },
        "id": "0e9AgBO-ovMO",
        "outputId": "488b8bf8-b4af-49ef-86e1-cb31e52b76ce"
      },
      "execution_count": 64,
      "outputs": [
        {
          "output_type": "execute_result",
          "data": {
            "text/plain": [
              "Text(0, 0.5, 'Coolant Temperature (°C)')"
            ]
          },
          "metadata": {},
          "execution_count": 64
        },
        {
          "output_type": "display_data",
          "data": {
            "text/plain": [
              "<Figure size 432x288 with 1 Axes>"
            ],
            "image/png": "[encoded data removed]"
          },
          "metadata": {
            "needs_background": "light"
          }
        }
      ]
    },
    {
      "cell_type": "code",
      "source": [
        "#dropping rows to avoid error:- ValueError: Input contains NaN, infinity or a value too large for dtype('float64')."
      ],
      "metadata": {
        "id": "2xE50XXTWQEv"
      },
      "execution_count": 67,
      "outputs": []
    },
    {
      "cell_type": "code",
      "source": [
        "df.drop(df.index[300:55958], inplace=True)  \n",
        "df.head(10)"
      ],
      "metadata": {
        "colab": {
          "base_uri": "https://localhost:8080/",
          "height": 427
        },
        "id": "e6Ic9RxlTMbg",
        "outputId": "fc073921-84c1-4ef0-b8a2-e15f87ddc237"
      },
      "execution_count": 68,
      "outputs": [
        {
          "output_type": "execute_result",
          "data": {
            "text/plain": [
              "        u_q    coolant  stator_winding       u_d  stator_tooth  motor_speed  \\\n",
              "0 -0.450682  18.805172       19.086670 -0.350055     18.293219     0.002866   \n",
              "1 -0.325737  18.818571       19.092390 -0.305803     18.294807     0.000257   \n",
              "2 -0.440864  18.828770       19.089380 -0.372503     18.294094     0.002355   \n",
              "3 -0.327026  18.835567       19.083031 -0.316199     18.292542     0.006105   \n",
              "4 -0.471150  18.857033       19.082525 -0.332272     18.291428     0.003133   \n",
              "5 -0.538973  18.901548       19.077108  0.009147     18.290628     0.009636   \n",
              "6 -0.653148  18.941711       19.074583  0.238890     18.292524     0.001337   \n",
              "7 -0.758392  18.960861       19.082499  0.395099     18.294041     0.001422   \n",
              "8 -0.727128  18.973545       19.085533  0.546623     18.291964     0.000577   \n",
              "9 -0.874307  18.987812       19.076025  0.578944     18.287233    -0.001248   \n",
              "\n",
              "        i_d       i_q         pm  stator_yoke    ambient    torque  profile_id  \n",
              "0  0.004419  0.000328  24.554214    18.316547  19.850691  0.187101        17.0  \n",
              "1  0.000606 -0.000785  24.538078    18.314955  19.850672  0.245417        17.0  \n",
              "2  0.001290  0.000386  24.544693    18.326307  19.850657  0.176615        17.0  \n",
              "3  0.000026  0.002046  24.554018    18.330833  19.850647  0.238303        17.0  \n",
              "4 -0.064317  0.037184  24.565397    18.326662  19.850639  0.208197        17.0  \n",
              "5 -0.613635  0.336747  24.573601    18.323862  19.850634  0.476218        17.0  \n",
              "6 -1.005647  0.554211  24.576578    18.321936  19.850630  0.670015        17.0  \n",
              "7 -1.288384  0.706370  24.574949    18.314655  19.850628  0.752035        17.0  \n",
              "8 -1.490530  0.817339  24.567080    18.306925  19.850626  0.910541        17.0  \n",
              "9 -1.634464  0.898013  24.553242    18.301733  19.850624  0.924010        17.0  "
            ],
            "text/html": [
              "\n",
              "  <div id=\"df-a958218b-797d-4574-b555-01bc1f1a80fa\">\n",
              "    <div class=\"colab-df-container\">\n",
              "      <div>\n",
              "<style scoped>\n",
              "    .dataframe tbody tr th:only-of-type {\n",
              "        vertical-align: middle;\n",
              "    }\n",
              "\n",
              "    .dataframe tbody tr th {\n",
              "        vertical-align: top;\n",
              "    }\n",
              "\n",
              "    .dataframe thead th {\n",
              "        text-align: right;\n",
              "    }\n",
              "</style>\n",
              "<table border=\"1\" class=\"dataframe\">\n",
              "  <thead>\n",
              "    <tr style=\"text-align: right;\">\n",
              "      <th></th>\n",
              "      <th>u_q</th>\n",
              "      <th>coolant</th>\n",
              "      <th>stator_winding</th>\n",
              "      <th>u_d</th>\n",
              "      <th>stator_tooth</th>\n",
              "      <th>motor_speed</th>\n",
              "      <th>i_d</th>\n",
              "      <th>i_q</th>\n",
              "      <th>pm</th>\n",
              "      <th>stator_yoke</th>\n",
              "      <th>ambient</th>\n",
              "      <th>torque</th>\n",
              "      <th>profile_id</th>\n",
              "    </tr>\n",
              "  </thead>\n",
              "  <tbody>\n",
              "    <tr>\n",
              "      <th>0</th>\n",
              "      <td>-0.450682</td>\n",
              "      <td>18.805172</td>\n",
              "      <td>19.086670</td>\n",
              "      <td>-0.350055</td>\n",
              "      <td>18.293219</td>\n",
              "      <td>0.002866</td>\n",
              "      <td>0.004419</td>\n",
              "      <td>0.000328</td>\n",
              "      <td>24.554214</td>\n",
              "      <td>18.316547</td>\n",
              "      <td>19.850691</td>\n",
              "      <td>0.187101</td>\n",
              "      <td>17.0</td>\n",
              "    </tr>\n",
              "    <tr>\n",
              "      <th>1</th>\n",
              "      <td>-0.325737</td>\n",
              "      <td>18.818571</td>\n",
              "      <td>19.092390</td>\n",
              "      <td>-0.305803</td>\n",
              "      <td>18.294807</td>\n",
              "      <td>0.000257</td>\n",
              "      <td>0.000606</td>\n",
              "      <td>-0.000785</td>\n",
              "      <td>24.538078</td>\n",
              "      <td>18.314955</td>\n",
              "      <td>19.850672</td>\n",
              "      <td>0.245417</td>\n",
              "      <td>17.0</td>\n",
              "    </tr>\n",
              "    <tr>\n",
              "      <th>2</th>\n",
              "      <td>-0.440864</td>\n",
              "      <td>18.828770</td>\n",
              "      <td>19.089380</td>\n",
              "      <td>-0.372503</td>\n",
              "      <td>18.294094</td>\n",
              "      <td>0.002355</td>\n",
              "      <td>0.001290</td>\n",
              "      <td>0.000386</td>\n",
              "      <td>24.544693</td>\n",
              "      <td>18.326307</td>\n",
              "      <td>19.850657</td>\n",
              "      <td>0.176615</td>\n",
              "      <td>17.0</td>\n",
              "    </tr>\n",
              "    <tr>\n",
              "      <th>3</th>\n",
              "      <td>-0.327026</td>\n",
              "      <td>18.835567</td>\n",
              "      <td>19.083031</td>\n",
              "      <td>-0.316199</td>\n",
              "      <td>18.292542</td>\n",
              "      <td>0.006105</td>\n",
              "      <td>0.000026</td>\n",
              "      <td>0.002046</td>\n",
              "      <td>24.554018</td>\n",
              "      <td>18.330833</td>\n",
              "      <td>19.850647</td>\n",
              "      <td>0.238303</td>\n",
              "      <td>17.0</td>\n",
              "    </tr>\n",
              "    <tr>\n",
              "      <th>4</th>\n",
              "      <td>-0.471150</td>\n",
              "      <td>18.857033</td>\n",
              "      <td>19.082525</td>\n",
              "      <td>-0.332272</td>\n",
              "      <td>18.291428</td>\n",
              "      <td>0.003133</td>\n",
              "      <td>-0.064317</td>\n",
              "      <td>0.037184</td>\n",
              "      <td>24.565397</td>\n",
              "      <td>18.326662</td>\n",
              "      <td>19.850639</td>\n",
              "      <td>0.208197</td>\n",
              "      <td>17.0</td>\n",
              "    </tr>\n",
              "    <tr>\n",
              "      <th>5</th>\n",
              "      <td>-0.538973</td>\n",
              "      <td>18.901548</td>\n",
              "      <td>19.077108</td>\n",
              "      <td>0.009147</td>\n",
              "      <td>18.290628</td>\n",
              "      <td>0.009636</td>\n",
              "      <td>-0.613635</td>\n",
              "      <td>0.336747</td>\n",
              "      <td>24.573601</td>\n",
              "      <td>18.323862</td>\n",
              "      <td>19.850634</td>\n",
              "      <td>0.476218</td>\n",
              "      <td>17.0</td>\n",
              "    </tr>\n",
              "    <tr>\n",
              "      <th>6</th>\n",
              "      <td>-0.653148</td>\n",
              "      <td>18.941711</td>\n",
              "      <td>19.074583</td>\n",
              "      <td>0.238890</td>\n",
              "      <td>18.292524</td>\n",
              "      <td>0.001337</td>\n",
              "      <td>-1.005647</td>\n",
              "      <td>0.554211</td>\n",
              "      <td>24.576578</td>\n",
              "      <td>18.321936</td>\n",
              "      <td>19.850630</td>\n",
              "      <td>0.670015</td>\n",
              "      <td>17.0</td>\n",
              "    </tr>\n",
              "    <tr>\n",
              "      <th>7</th>\n",
              "      <td>-0.758392</td>\n",
              "      <td>18.960861</td>\n",
              "      <td>19.082499</td>\n",
              "      <td>0.395099</td>\n",
              "      <td>18.294041</td>\n",
              "      <td>0.001422</td>\n",
              "      <td>-1.288384</td>\n",
              "      <td>0.706370</td>\n",
              "      <td>24.574949</td>\n",
              "      <td>18.314655</td>\n",
              "      <td>19.850628</td>\n",
              "      <td>0.752035</td>\n",
              "      <td>17.0</td>\n",
              "    </tr>\n",
              "    <tr>\n",
              "      <th>8</th>\n",
              "      <td>-0.727128</td>\n",
              "      <td>18.973545</td>\n",
              "      <td>19.085533</td>\n",
              "      <td>0.546623</td>\n",
              "      <td>18.291964</td>\n",
              "      <td>0.000577</td>\n",
              "      <td>-1.490530</td>\n",
              "      <td>0.817339</td>\n",
              "      <td>24.567080</td>\n",
              "      <td>18.306925</td>\n",
              "      <td>19.850626</td>\n",
              "      <td>0.910541</td>\n",
              "      <td>17.0</td>\n",
              "    </tr>\n",
              "    <tr>\n",
              "      <th>9</th>\n",
              "      <td>-0.874307</td>\n",
              "      <td>18.987812</td>\n",
              "      <td>19.076025</td>\n",
              "      <td>0.578944</td>\n",
              "      <td>18.287233</td>\n",
              "      <td>-0.001248</td>\n",
              "      <td>-1.634464</td>\n",
              "      <td>0.898013</td>\n",
              "      <td>24.553242</td>\n",
              "      <td>18.301733</td>\n",
              "      <td>19.850624</td>\n",
              "      <td>0.924010</td>\n",
              "      <td>17.0</td>\n",
              "    </tr>\n",
              "  </tbody>\n",
              "</table>\n",
              "</div>\n",
              "      <button class=\"colab-df-convert\" onclick=\"convertToInteractive('df-a958218b-797d-4574-b555-01bc1f1a80fa')\"\n",
              "              title=\"Convert this dataframe to an interactive table.\"\n",
              "              style=\"display:none;\">\n",
              "        \n",
              "  <svg xmlns=\"http://www.w3.org/2000/svg\" height=\"24px\"viewBox=\"0 0 24 24\"\n",
              "       width=\"24px\">\n",
              "    <path d=\"M0 0h24v24H0V0z\" fill=\"none\"/>\n",
              "    <path d=\"M18.56 5.44l.94 2.06.94-2.06 2.06-.94-2.06-.94-.94-2.06-.94 2.06-2.06.94zm-11 1L8.5 8.5l.94-2.06 2.06-.94-2.06-.94L8.5 2.5l-.94 2.06-2.06.94zm10 10l.94 2.06.94-2.06 2.06-.94-2.06-.94-.94-2.06-.94 2.06-2.06.94z\"/><path d=\"M17.41 7.96l-1.37-1.37c-.4-.4-.92-.59-1.43-.59-.52 0-1.04.2-1.43.59L10.3 9.45l-7.72 7.72c-.78.78-.78 2.05 0 2.83L4 21.41c.39.39.9.59 1.41.59.51 0 1.02-.2 1.41-.59l7.78-7.78 2.81-2.81c.8-.78.8-2.07 0-2.86zM5.41 20L4 18.59l7.72-7.72 1.47 1.35L5.41 20z\"/>\n",
              "  </svg>\n",
              "      </button>\n",
              "      \n",
              "  <style>\n",
              "    .colab-df-container {\n",
              "      display:flex;\n",
              "      flex-wrap:wrap;\n",
              "      gap: 12px;\n",
              "    }\n",
              "\n",
              "    .colab-df-convert {\n",
              "      background-color: #E8F0FE;\n",
              "      border: none;\n",
              "      border-radius: 50%;\n",
              "      cursor: pointer;\n",
              "      display: none;\n",
              "      fill: #1967D2;\n",
              "      height: 32px;\n",
              "      padding: 0 0 0 0;\n",
              "      width: 32px;\n",
              "    }\n",
              "\n",
              "    .colab-df-convert:hover {\n",
              "      background-color: #E2EBFA;\n",
              "      box-shadow: 0px 1px 2px rgba(60, 64, 67, 0.3), 0px 1px 3px 1px rgba(60, 64, 67, 0.15);\n",
              "      fill: #174EA6;\n",
              "    }\n",
              "\n",
              "    [theme=dark] .colab-df-convert {\n",
              "      background-color: #3B4455;\n",
              "      fill: #D2E3FC;\n",
              "    }\n",
              "\n",
              "    [theme=dark] .colab-df-convert:hover {\n",
              "      background-color: #434B5C;\n",
              "      box-shadow: 0px 1px 3px 1px rgba(0, 0, 0, 0.15);\n",
              "      filter: drop-shadow(0px 1px 2px rgba(0, 0, 0, 0.3));\n",
              "      fill: #FFFFFF;\n",
              "    }\n",
              "  </style>\n",
              "\n",
              "      <script>\n",
              "        const buttonEl =\n",
              "          document.querySelector('#df-a958218b-797d-4574-b555-01bc1f1a80fa button.colab-df-convert');\n",
              "        buttonEl.style.display =\n",
              "          google.colab.kernel.accessAllowed ? 'block' : 'none';\n",
              "\n",
              "        async function convertToInteractive(key) {\n",
              "          const element = document.querySelector('#df-a958218b-797d-4574-b555-01bc1f1a80fa');\n",
              "          const dataTable =\n",
              "            await google.colab.kernel.invokeFunction('convertToInteractive',\n",
              "                                                     [key], {});\n",
              "          if (!dataTable) return;\n",
              "\n",
              "          const docLinkHtml = 'Like what you see? Visit the ' +\n",
              "            '<a target=\"_blank\" href=https://colab.research.google.com/notebooks/data_table.ipynb>data table notebook</a>'\n",
              "            + ' to learn more about interactive tables.';\n",
              "          element.innerHTML = '';\n",
              "          dataTable['output_type'] = 'display_data';\n",
              "          await google.colab.output.renderOutput(dataTable, element);\n",
              "          const docLink = document.createElement('div');\n",
              "          docLink.innerHTML = docLinkHtml;\n",
              "          element.appendChild(docLink);\n",
              "        }\n",
              "      </script>\n",
              "    </div>\n",
              "  </div>\n",
              "  "
            ]
          },
          "metadata": {},
          "execution_count": 68
        }
      ]
    },
    {
      "cell_type": "code",
      "source": [
        "df.shape"
      ],
      "metadata": {
        "colab": {
          "base_uri": "https://localhost:8080/",
          "height": 0
        },
        "id": "kMyVhtZ_Vzpi",
        "outputId": "923b97e0-f0c2-4779-90bb-15338d0b09b2"
      },
      "execution_count": 69,
      "outputs": [
        {
          "output_type": "execute_result",
          "data": {
            "text/plain": [
              "(300, 13)"
            ]
          },
          "metadata": {},
          "execution_count": 69
        }
      ]
    },
    {
      "cell_type": "code",
      "source": [
        "x"
      ],
      "metadata": {
        "colab": {
          "base_uri": "https://localhost:8080/",
          "height": 0
        },
        "id": "O5Kr9YXGtd62",
        "outputId": "aa956d26-51f4-4cc2-d0ad-177ee15d40e5"
      },
      "execution_count": 70,
      "outputs": [
        {
          "output_type": "execute_result",
          "data": {
            "text/plain": [
              "array([-6.29892992e-03, -5.88588184e-03, -5.36493398e-03, ...,\n",
              "        4.99996973e+03,  4.99997021e+03,  4.99997119e+03])"
            ]
          },
          "metadata": {},
          "execution_count": 70
        }
      ]
    },
    {
      "cell_type": "code",
      "source": [
        "df = df.drop('profile_id', axis = 1)\n",
        "from sklearn.model_selection import train_test_split\n",
        "\n",
        "x = df.drop('coolant', axis = 1)\n",
        "y = df.coolant\n",
        "\n",
        "x_train, x_test, y_train, y_test = train_test_split(x,y, random_state = 0)"
      ],
      "metadata": {
        "id": "BvaYTmFOpjcw"
      },
      "execution_count": 71,
      "outputs": []
    },
    {
      "cell_type": "code",
      "source": [
        "print(x.shape)\n",
        "print(x_train.shape)\n",
        "print(x_test.shape)"
      ],
      "metadata": {
        "colab": {
          "base_uri": "https://localhost:8080/",
          "height": 0
        },
        "id": "Kqc-yjUZrdCE",
        "outputId": "bfbfa84a-f813-4a6c-97a8-3eec9c99a932"
      },
      "execution_count": 72,
      "outputs": [
        {
          "output_type": "stream",
          "name": "stdout",
          "text": [
            "(300, 11)\n",
            "(225, 11)\n",
            "(75, 11)\n"
          ]
        }
      ]
    },
    {
      "cell_type": "code",
      "source": [
        "print(y.shape)\n",
        "print(y_train.shape)\n",
        "print(y_test.shape)"
      ],
      "metadata": {
        "colab": {
          "base_uri": "https://localhost:8080/",
          "height": 0
        },
        "id": "lA10s_hesGu7",
        "outputId": "28d6802b-42dc-49c8-aaea-c7f04ead0732"
      },
      "execution_count": 73,
      "outputs": [
        {
          "output_type": "stream",
          "name": "stdout",
          "text": [
            "(300,)\n",
            "(225,)\n",
            "(75,)\n"
          ]
        }
      ]
    },
    {
      "cell_type": "code",
      "source": [
        "#Normalization\n",
        "from sklearn.preprocessing import MinMaxScaler\n",
        "scaler = MinMaxScaler()\n",
        "x_train = scaler.fit_transform(x_train)\n",
        "x_test = scaler.fit_transform(x_test)"
      ],
      "metadata": {
        "id": "zvh35Q_lsdsc"
      },
      "execution_count": 74,
      "outputs": []
    },
    {
      "cell_type": "code",
      "source": [
        "#Running a regressor \n",
        "from sklearn.linear_model import LinearRegression\n",
        "model = LinearRegression()"
      ],
      "metadata": {
        "id": "klqgegc1shMb"
      },
      "execution_count": 75,
      "outputs": []
    },
    {
      "cell_type": "code",
      "source": [
        "#Model fitting\n",
        "model.fit(x_train,y_train)"
      ],
      "metadata": {
        "colab": {
          "base_uri": "https://localhost:8080/",
          "height": 0
        },
        "id": "v-v9CMRUsldn",
        "outputId": "12215923-f9c9-44ea-cbe1-ade9d258d465"
      },
      "execution_count": 76,
      "outputs": [
        {
          "output_type": "execute_result",
          "data": {
            "text/plain": [
              "LinearRegression()"
            ]
          },
          "metadata": {},
          "execution_count": 76
        }
      ]
    },
    {
      "cell_type": "code",
      "source": [
        "#Predicting output\n",
        "y_pred = model.predict(x_test)\n",
        "y_pred #Predicted"
      ],
      "metadata": {
        "colab": {
          "base_uri": "https://localhost:8080/",
          "height": 0
        },
        "id": "hqPTYK-6ihfk",
        "outputId": "52aafed8-b1a9-4b7c-f1b2-934bb155501b"
      },
      "execution_count": 77,
      "outputs": [
        {
          "output_type": "execute_result",
          "data": {
            "text/plain": [
              "array([18.96252203, 18.95184183, 18.85999362, 18.99909162, 19.04984957,\n",
              "       18.88716077, 19.01811353, 18.96303456, 18.90105461, 18.87546483,\n",
              "       19.15014213, 18.84822248, 18.92981896, 19.05167007, 18.86370596,\n",
              "       18.88812522, 19.09606112, 18.86572014, 19.02960661, 18.91629322,\n",
              "       18.95852789, 18.87224081, 18.88499549, 18.88668314, 19.00160587,\n",
              "       18.87457657, 18.96732726, 19.14581348, 19.06129606, 19.15509171,\n",
              "       18.87101521, 18.86572782, 18.86536484, 18.85459909, 18.99860116,\n",
              "       18.9382887 , 18.92170736, 18.91878194, 19.15493497, 18.86042074,\n",
              "       19.01093227, 18.87317291, 18.87671409, 18.8699556 , 18.90488689,\n",
              "       18.89509275, 19.06309323, 18.88102519, 18.86486819, 18.88915674,\n",
              "       18.87894745, 18.98538478, 18.93088818, 18.87730552, 18.89196909,\n",
              "       19.05487784, 18.93582045, 18.93547274, 19.13717678, 18.93765569,\n",
              "       18.87489522, 18.91050465, 18.88400199, 19.15763827, 19.13868822,\n",
              "       19.01304402, 19.05049204, 18.88462844, 18.85821581, 18.88702338,\n",
              "       18.92859137, 19.02721756, 19.08121793, 18.9633951 , 18.8951246 ])"
            ]
          },
          "metadata": {},
          "execution_count": 77
        }
      ]
    },
    {
      "cell_type": "code",
      "source": [
        "y_test #Actual values"
      ],
      "metadata": {
        "id": "WoCqZkwt5tNC",
        "colab": {
          "base_uri": "https://localhost:8080/",
          "height": 0
        },
        "outputId": "b7a63258-e83d-4738-8c0b-c9476863ca12"
      },
      "execution_count": 78,
      "outputs": [
        {
          "output_type": "execute_result",
          "data": {
            "text/plain": [
              "208    19.156012\n",
              "188    19.091515\n",
              "12     18.990061\n",
              "221    18.896414\n",
              "239    18.905981\n",
              "         ...    \n",
              "156    18.844925\n",
              "228    19.179750\n",
              "273    19.197226\n",
              "27     18.974653\n",
              "144    18.909874\n",
              "Name: coolant, Length: 75, dtype: float64"
            ]
          },
          "metadata": {},
          "execution_count": 78
        }
      ]
    },
    {
      "cell_type": "code",
      "source": [
        "print(x_train[10]) #Showing normalised values"
      ],
      "metadata": {
        "colab": {
          "base_uri": "https://localhost:8080/",
          "height": 0
        },
        "id": "U5pW6RIFS4Gy",
        "outputId": "a4d96723-b7c3-44c0-a4fe-49921908a26e"
      },
      "execution_count": 79,
      "outputs": [
        {
          "output_type": "stream",
          "name": "stdout",
          "text": [
            "[0.95694597 0.18584679 0.015018   0.08991301 0.99999795 0.00330179\n",
            " 0.95428125 0.16649225 0.09831079 0.         0.99523854]\n"
          ]
        }
      ]
    },
    {
      "cell_type": "code",
      "source": [
        "model.predict([x_train[10]]) #Predicting particular values"
      ],
      "metadata": {
        "colab": {
          "base_uri": "https://localhost:8080/",
          "height": 0
        },
        "id": "S2Nj0W48TCwy",
        "outputId": "85aa742d-a0f7-41ec-fdbf-1869739e1081"
      },
      "execution_count": 80,
      "outputs": [
        {
          "output_type": "execute_result",
          "data": {
            "text/plain": [
              "array([18.90351377])"
            ]
          },
          "metadata": {},
          "execution_count": 80
        }
      ]
    },
    {
      "cell_type": "code",
      "source": [],
      "metadata": {
        "id": "Vedo-I5cWhZ4"
      },
      "execution_count": null,
      "outputs": []
    }
  ]
}