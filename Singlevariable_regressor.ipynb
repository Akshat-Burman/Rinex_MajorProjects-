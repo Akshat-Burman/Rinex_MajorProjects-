{
  "nbformat": 4,
  "nbformat_minor": 0,
  "metadata": {
    "colab": {
      "provenance": []
    },
    "kernelspec": {
      "name": "python3",
      "display_name": "Python 3"
    },
    "language_info": {
      "name": "python"
    }
  },
  "cells": [
    {
      "cell_type": "code",
      "execution_count": 1,
      "metadata": {
        "colab": {
          "base_uri": "https://localhost:8080/",
          "height": 424
        },
        "id": "TsSIDb4k7xK-",
        "outputId": "888901e6-c1d1-4a65-fe97-edf43a02c02a"
      },
      "outputs": [
        {
          "output_type": "execute_result",
          "data": {
            "text/plain": [
              "      Source  Year    Mean\n",
              "0       GCAG  2016  0.9363\n",
              "1    GISTEMP  2016  0.9900\n",
              "2       GCAG  2015  0.8998\n",
              "3    GISTEMP  2015  0.8700\n",
              "4       GCAG  2014  0.7408\n",
              "..       ...   ...     ...\n",
              "269  GISTEMP  1882 -0.1000\n",
              "270     GCAG  1881 -0.0628\n",
              "271  GISTEMP  1881 -0.1200\n",
              "272     GCAG  1880 -0.1148\n",
              "273  GISTEMP  1880 -0.2000\n",
              "\n",
              "[274 rows x 3 columns]"
            ],
            "text/html": [
              "\n",
              "  <div id=\"df-06c7d564-a5d2-4a61-a895-f0a28523be57\">\n",
              "    <div class=\"colab-df-container\">\n",
              "      <div>\n",
              "<style scoped>\n",
              "    .dataframe tbody tr th:only-of-type {\n",
              "        vertical-align: middle;\n",
              "    }\n",
              "\n",
              "    .dataframe tbody tr th {\n",
              "        vertical-align: top;\n",
              "    }\n",
              "\n",
              "    .dataframe thead th {\n",
              "        text-align: right;\n",
              "    }\n",
              "</style>\n",
              "<table border=\"1\" class=\"dataframe\">\n",
              "  <thead>\n",
              "    <tr style=\"text-align: right;\">\n",
              "      <th></th>\n",
              "      <th>Source</th>\n",
              "      <th>Year</th>\n",
              "      <th>Mean</th>\n",
              "    </tr>\n",
              "  </thead>\n",
              "  <tbody>\n",
              "    <tr>\n",
              "      <th>0</th>\n",
              "      <td>GCAG</td>\n",
              "      <td>2016</td>\n",
              "      <td>0.9363</td>\n",
              "    </tr>\n",
              "    <tr>\n",
              "      <th>1</th>\n",
              "      <td>GISTEMP</td>\n",
              "      <td>2016</td>\n",
              "      <td>0.9900</td>\n",
              "    </tr>\n",
              "    <tr>\n",
              "      <th>2</th>\n",
              "      <td>GCAG</td>\n",
              "      <td>2015</td>\n",
              "      <td>0.8998</td>\n",
              "    </tr>\n",
              "    <tr>\n",
              "      <th>3</th>\n",
              "      <td>GISTEMP</td>\n",
              "      <td>2015</td>\n",
              "      <td>0.8700</td>\n",
              "    </tr>\n",
              "    <tr>\n",
              "      <th>4</th>\n",
              "      <td>GCAG</td>\n",
              "      <td>2014</td>\n",
              "      <td>0.7408</td>\n",
              "    </tr>\n",
              "    <tr>\n",
              "      <th>...</th>\n",
              "      <td>...</td>\n",
              "      <td>...</td>\n",
              "      <td>...</td>\n",
              "    </tr>\n",
              "    <tr>\n",
              "      <th>269</th>\n",
              "      <td>GISTEMP</td>\n",
              "      <td>1882</td>\n",
              "      <td>-0.1000</td>\n",
              "    </tr>\n",
              "    <tr>\n",
              "      <th>270</th>\n",
              "      <td>GCAG</td>\n",
              "      <td>1881</td>\n",
              "      <td>-0.0628</td>\n",
              "    </tr>\n",
              "    <tr>\n",
              "      <th>271</th>\n",
              "      <td>GISTEMP</td>\n",
              "      <td>1881</td>\n",
              "      <td>-0.1200</td>\n",
              "    </tr>\n",
              "    <tr>\n",
              "      <th>272</th>\n",
              "      <td>GCAG</td>\n",
              "      <td>1880</td>\n",
              "      <td>-0.1148</td>\n",
              "    </tr>\n",
              "    <tr>\n",
              "      <th>273</th>\n",
              "      <td>GISTEMP</td>\n",
              "      <td>1880</td>\n",
              "      <td>-0.2000</td>\n",
              "    </tr>\n",
              "  </tbody>\n",
              "</table>\n",
              "<p>274 rows × 3 columns</p>\n",
              "</div>\n",
              "      <button class=\"colab-df-convert\" onclick=\"convertToInteractive('df-06c7d564-a5d2-4a61-a895-f0a28523be57')\"\n",
              "              title=\"Convert this dataframe to an interactive table.\"\n",
              "              style=\"display:none;\">\n",
              "        \n",
              "  <svg xmlns=\"http://www.w3.org/2000/svg\" height=\"24px\"viewBox=\"0 0 24 24\"\n",
              "       width=\"24px\">\n",
              "    <path d=\"M0 0h24v24H0V0z\" fill=\"none\"/>\n",
              "    <path d=\"M18.56 5.44l.94 2.06.94-2.06 2.06-.94-2.06-.94-.94-2.06-.94 2.06-2.06.94zm-11 1L8.5 8.5l.94-2.06 2.06-.94-2.06-.94L8.5 2.5l-.94 2.06-2.06.94zm10 10l.94 2.06.94-2.06 2.06-.94-2.06-.94-.94-2.06-.94 2.06-2.06.94z\"/><path d=\"M17.41 7.96l-1.37-1.37c-.4-.4-.92-.59-1.43-.59-.52 0-1.04.2-1.43.59L10.3 9.45l-7.72 7.72c-.78.78-.78 2.05 0 2.83L4 21.41c.39.39.9.59 1.41.59.51 0 1.02-.2 1.41-.59l7.78-7.78 2.81-2.81c.8-.78.8-2.07 0-2.86zM5.41 20L4 18.59l7.72-7.72 1.47 1.35L5.41 20z\"/>\n",
              "  </svg>\n",
              "      </button>\n",
              "      \n",
              "  <style>\n",
              "    .colab-df-container {\n",
              "      display:flex;\n",
              "      flex-wrap:wrap;\n",
              "      gap: 12px;\n",
              "    }\n",
              "\n",
              "    .colab-df-convert {\n",
              "      background-color: #E8F0FE;\n",
              "      border: none;\n",
              "      border-radius: 50%;\n",
              "      cursor: pointer;\n",
              "      display: none;\n",
              "      fill: #1967D2;\n",
              "      height: 32px;\n",
              "      padding: 0 0 0 0;\n",
              "      width: 32px;\n",
              "    }\n",
              "\n",
              "    .colab-df-convert:hover {\n",
              "      background-color: #E2EBFA;\n",
              "      box-shadow: 0px 1px 2px rgba(60, 64, 67, 0.3), 0px 1px 3px 1px rgba(60, 64, 67, 0.15);\n",
              "      fill: #174EA6;\n",
              "    }\n",
              "\n",
              "    [theme=dark] .colab-df-convert {\n",
              "      background-color: #3B4455;\n",
              "      fill: #D2E3FC;\n",
              "    }\n",
              "\n",
              "    [theme=dark] .colab-df-convert:hover {\n",
              "      background-color: #434B5C;\n",
              "      box-shadow: 0px 1px 3px 1px rgba(0, 0, 0, 0.15);\n",
              "      filter: drop-shadow(0px 1px 2px rgba(0, 0, 0, 0.3));\n",
              "      fill: #FFFFFF;\n",
              "    }\n",
              "  </style>\n",
              "\n",
              "      <script>\n",
              "        const buttonEl =\n",
              "          document.querySelector('#df-06c7d564-a5d2-4a61-a895-f0a28523be57 button.colab-df-convert');\n",
              "        buttonEl.style.display =\n",
              "          google.colab.kernel.accessAllowed ? 'block' : 'none';\n",
              "\n",
              "        async function convertToInteractive(key) {\n",
              "          const element = document.querySelector('#df-06c7d564-a5d2-4a61-a895-f0a28523be57');\n",
              "          const dataTable =\n",
              "            await google.colab.kernel.invokeFunction('convertToInteractive',\n",
              "                                                     [key], {});\n",
              "          if (!dataTable) return;\n",
              "\n",
              "          const docLinkHtml = 'Like what you see? Visit the ' +\n",
              "            '<a target=\"_blank\" href=https://colab.research.google.com/notebooks/data_table.ipynb>data table notebook</a>'\n",
              "            + ' to learn more about interactive tables.';\n",
              "          element.innerHTML = '';\n",
              "          dataTable['output_type'] = 'display_data';\n",
              "          await google.colab.output.renderOutput(dataTable, element);\n",
              "          const docLink = document.createElement('div');\n",
              "          docLink.innerHTML = docLinkHtml;\n",
              "          element.appendChild(docLink);\n",
              "        }\n",
              "      </script>\n",
              "    </div>\n",
              "  </div>\n",
              "  "
            ]
          },
          "metadata": {},
          "execution_count": 1
        }
      ],
      "source": [
        "#Take the data and create dataframe\n",
        "import pandas as pd\n",
        "df = pd.read_csv('/content/annual.csv')\n",
        "df"
      ]
    },
    {
      "cell_type": "code",
      "source": [
        "#Data Visualisation - creation of Graphs\n",
        "import matplotlib.pyplot as plt\n",
        "import numpy as np\n",
        "x= df['Year'].to_numpy()\n",
        "y= df['Mean'].to_numpy()\n",
        "plt.xlabel('Year')\n",
        "plt.ylabel('Mean')\n",
        "\n",
        "plt.plot(x,y)"
      ],
      "metadata": {
        "colab": {
          "base_uri": "https://localhost:8080/",
          "height": 296
        },
        "id": "SRsvS1Yn8F7n",
        "outputId": "797e2f4d-b444-4148-e050-959b0335d64a"
      },
      "execution_count": 5,
      "outputs": [
        {
          "output_type": "execute_result",
          "data": {
            "text/plain": [
              "[<matplotlib.lines.Line2D at 0x7f5fa8727390>]"
            ]
          },
          "metadata": {},
          "execution_count": 5
        },
        {
          "output_type": "display_data",
          "data": {
            "text/plain": [
              "<Figure size 432x288 with 1 Axes>"
            ],
            "image/png": "[encoded data removed]"
          },
          "metadata": {
            "needs_background": "light"
          }
        }
      ]
    },
    {
      "cell_type": "code",
      "source": [
        "x = df.iloc[:,1:2].values\n",
        "x"
      ],
      "metadata": {
        "colab": {
          "base_uri": "https://localhost:8080/",
          "height": 0
        },
        "id": "NDt4Al_O82GA",
        "outputId": "9d5d0a52-b107-44f9-87c0-055158c1bdb7"
      },
      "execution_count": 6,
      "outputs": [
        {
          "output_type": "execute_result",
          "data": {
            "text/plain": [
              "array([[2016],\n",
              "       [2016],\n",
              "       [2015],\n",
              "       [2015],\n",
              "       [2014],\n",
              "       [2014],\n",
              "       [2013],\n",
              "       [2013],\n",
              "       [2012],\n",
              "       [2012],\n",
              "       [2011],\n",
              "       [2011],\n",
              "       [2010],\n",
              "       [2010],\n",
              "       [2009],\n",
              "       [2009],\n",
              "       [2008],\n",
              "       [2008],\n",
              "       [2007],\n",
              "       [2007],\n",
              "       [2006],\n",
              "       [2006],\n",
              "       [2005],\n",
              "       [2005],\n",
              "       [2004],\n",
              "       [2004],\n",
              "       [2003],\n",
              "       [2003],\n",
              "       [2002],\n",
              "       [2002],\n",
              "       [2001],\n",
              "       [2001],\n",
              "       [2000],\n",
              "       [2000],\n",
              "       [1999],\n",
              "       [1999],\n",
              "       [1998],\n",
              "       [1998],\n",
              "       [1997],\n",
              "       [1997],\n",
              "       [1996],\n",
              "       [1996],\n",
              "       [1995],\n",
              "       [1995],\n",
              "       [1994],\n",
              "       [1994],\n",
              "       [1993],\n",
              "       [1993],\n",
              "       [1992],\n",
              "       [1992],\n",
              "       [1991],\n",
              "       [1991],\n",
              "       [1990],\n",
              "       [1990],\n",
              "       [1989],\n",
              "       [1989],\n",
              "       [1988],\n",
              "       [1988],\n",
              "       [1987],\n",
              "       [1987],\n",
              "       [1986],\n",
              "       [1986],\n",
              "       [1985],\n",
              "       [1985],\n",
              "       [1984],\n",
              "       [1984],\n",
              "       [1983],\n",
              "       [1983],\n",
              "       [1982],\n",
              "       [1982],\n",
              "       [1981],\n",
              "       [1981],\n",
              "       [1980],\n",
              "       [1980],\n",
              "       [1979],\n",
              "       [1979],\n",
              "       [1978],\n",
              "       [1978],\n",
              "       [1977],\n",
              "       [1977],\n",
              "       [1976],\n",
              "       [1976],\n",
              "       [1975],\n",
              "       [1975],\n",
              "       [1974],\n",
              "       [1974],\n",
              "       [1973],\n",
              "       [1973],\n",
              "       [1972],\n",
              "       [1972],\n",
              "       [1971],\n",
              "       [1971],\n",
              "       [1970],\n",
              "       [1970],\n",
              "       [1969],\n",
              "       [1969],\n",
              "       [1968],\n",
              "       [1968],\n",
              "       [1967],\n",
              "       [1967],\n",
              "       [1966],\n",
              "       [1966],\n",
              "       [1965],\n",
              "       [1965],\n",
              "       [1964],\n",
              "       [1964],\n",
              "       [1963],\n",
              "       [1963],\n",
              "       [1962],\n",
              "       [1962],\n",
              "       [1961],\n",
              "       [1961],\n",
              "       [1960],\n",
              "       [1960],\n",
              "       [1959],\n",
              "       [1959],\n",
              "       [1958],\n",
              "       [1958],\n",
              "       [1957],\n",
              "       [1957],\n",
              "       [1956],\n",
              "       [1956],\n",
              "       [1955],\n",
              "       [1955],\n",
              "       [1954],\n",
              "       [1954],\n",
              "       [1953],\n",
              "       [1953],\n",
              "       [1952],\n",
              "       [1952],\n",
              "       [1951],\n",
              "       [1951],\n",
              "       [1950],\n",
              "       [1950],\n",
              "       [1949],\n",
              "       [1949],\n",
              "       [1948],\n",
              "       [1948],\n",
              "       [1947],\n",
              "       [1947],\n",
              "       [1946],\n",
              "       [1946],\n",
              "       [1945],\n",
              "       [1945],\n",
              "       [1944],\n",
              "       [1944],\n",
              "       [1943],\n",
              "       [1943],\n",
              "       [1942],\n",
              "       [1942],\n",
              "       [1941],\n",
              "       [1941],\n",
              "       [1940],\n",
              "       [1940],\n",
              "       [1939],\n",
              "       [1939],\n",
              "       [1938],\n",
              "       [1938],\n",
              "       [1937],\n",
              "       [1937],\n",
              "       [1936],\n",
              "       [1936],\n",
              "       [1935],\n",
              "       [1935],\n",
              "       [1934],\n",
              "       [1934],\n",
              "       [1933],\n",
              "       [1933],\n",
              "       [1932],\n",
              "       [1932],\n",
              "       [1931],\n",
              "       [1931],\n",
              "       [1930],\n",
              "       [1930],\n",
              "       [1929],\n",
              "       [1929],\n",
              "       [1928],\n",
              "       [1928],\n",
              "       [1927],\n",
              "       [1927],\n",
              "       [1926],\n",
              "       [1926],\n",
              "       [1925],\n",
              "       [1925],\n",
              "       [1924],\n",
              "       [1924],\n",
              "       [1923],\n",
              "       [1923],\n",
              "       [1922],\n",
              "       [1922],\n",
              "       [1921],\n",
              "       [1921],\n",
              "       [1920],\n",
              "       [1920],\n",
              "       [1919],\n",
              "       [1919],\n",
              "       [1918],\n",
              "       [1918],\n",
              "       [1917],\n",
              "       [1917],\n",
              "       [1916],\n",
              "       [1916],\n",
              "       [1915],\n",
              "       [1915],\n",
              "       [1914],\n",
              "       [1914],\n",
              "       [1913],\n",
              "       [1913],\n",
              "       [1912],\n",
              "       [1912],\n",
              "       [1911],\n",
              "       [1911],\n",
              "       [1910],\n",
              "       [1910],\n",
              "       [1909],\n",
              "       [1909],\n",
              "       [1908],\n",
              "       [1908],\n",
              "       [1907],\n",
              "       [1907],\n",
              "       [1906],\n",
              "       [1906],\n",
              "       [1905],\n",
              "       [1905],\n",
              "       [1904],\n",
              "       [1904],\n",
              "       [1903],\n",
              "       [1903],\n",
              "       [1902],\n",
              "       [1902],\n",
              "       [1901],\n",
              "       [1901],\n",
              "       [1900],\n",
              "       [1900],\n",
              "       [1899],\n",
              "       [1899],\n",
              "       [1898],\n",
              "       [1898],\n",
              "       [1897],\n",
              "       [1897],\n",
              "       [1896],\n",
              "       [1896],\n",
              "       [1895],\n",
              "       [1895],\n",
              "       [1894],\n",
              "       [1894],\n",
              "       [1893],\n",
              "       [1893],\n",
              "       [1892],\n",
              "       [1892],\n",
              "       [1891],\n",
              "       [1891],\n",
              "       [1890],\n",
              "       [1890],\n",
              "       [1889],\n",
              "       [1889],\n",
              "       [1888],\n",
              "       [1888],\n",
              "       [1887],\n",
              "       [1887],\n",
              "       [1886],\n",
              "       [1886],\n",
              "       [1885],\n",
              "       [1885],\n",
              "       [1884],\n",
              "       [1884],\n",
              "       [1883],\n",
              "       [1883],\n",
              "       [1882],\n",
              "       [1882],\n",
              "       [1881],\n",
              "       [1881],\n",
              "       [1880],\n",
              "       [1880]])"
            ]
          },
          "metadata": {},
          "execution_count": 6
        }
      ]
    },
    {
      "cell_type": "code",
      "source": [
        "y = df.iloc[:,2].values\n",
        "y"
      ],
      "metadata": {
        "colab": {
          "base_uri": "https://localhost:8080/",
          "height": 0
        },
        "id": "BxjOFyNN9pfp",
        "outputId": "77e94ece-3a45-4d76-f695-efda9fdd5899"
      },
      "execution_count": 8,
      "outputs": [
        {
          "output_type": "execute_result",
          "data": {
            "text/plain": [
              "array([ 0.9363,  0.99  ,  0.8998,  0.87  ,  0.7408,  0.74  ,  0.6679,\n",
              "        0.65  ,  0.624 ,  0.63  ,  0.5788,  0.6   ,  0.7014,  0.71  ,\n",
              "        0.6367,  0.64  ,  0.5419,  0.54  ,  0.61  ,  0.66  ,  0.6125,\n",
              "        0.63  ,  0.6585,  0.69  ,  0.5783,  0.55  ,  0.6134,  0.62  ,\n",
              "        0.6023,  0.63  ,  0.5473,  0.55  ,  0.4262,  0.42  ,  0.4438,\n",
              "        0.42  ,  0.6344,  0.64  ,  0.5187,  0.48  ,  0.3228,  0.35  ,\n",
              "        0.4577,  0.46  ,  0.3409,  0.32  ,  0.2853,  0.24  ,  0.2571,\n",
              "        0.23  ,  0.4055,  0.43  ,  0.4328,  0.44  ,  0.297 ,  0.29  ,\n",
              "        0.3757,  0.41  ,  0.3696,  0.33  ,  0.2296,  0.19  ,  0.1342,\n",
              "        0.12  ,  0.149 ,  0.15  ,  0.3411,  0.3   ,  0.1815,  0.13  ,\n",
              "        0.2999,  0.33  ,  0.2637,  0.27  ,  0.2273,  0.17  ,  0.1123,\n",
              "        0.07  ,  0.1978,  0.18  , -0.0792, -0.11  ,  0.0034, -0.02  ,\n",
              "       -0.0719, -0.07  ,  0.1641,  0.15  ,  0.0264,  0.01  , -0.0783,\n",
              "       -0.09  ,  0.0372,  0.02  ,  0.0929,  0.07  , -0.0296, -0.07  ,\n",
              "       -0.0131, -0.02  , -0.0227, -0.05  , -0.078 , -0.1   , -0.1495,\n",
              "       -0.2   ,  0.1068,  0.06  ,  0.0888,  0.03  ,  0.0775,  0.05  ,\n",
              "        0.0204, -0.02  ,  0.0596,  0.03  ,  0.1095,  0.07  ,  0.0488,\n",
              "        0.04  , -0.199 , -0.2   , -0.1354, -0.15  , -0.1165, -0.13  ,\n",
              "        0.0952,  0.08  ,  0.0248,  0.01  , -0.0132, -0.07  , -0.1616,\n",
              "       -0.18  , -0.0568, -0.09  , -0.0487, -0.09  , -0.0477, -0.05  ,\n",
              "       -0.004 , -0.04  ,  0.171 ,  0.12  ,  0.2928,  0.25  ,  0.157 ,\n",
              "        0.13  ,  0.1538,  0.09  ,  0.196 ,  0.12  ,  0.0947,  0.08  ,\n",
              "       -0.0139, -0.03  , -0.0288, -0.03  , -0.0157, -0.03  , -0.1134,\n",
              "       -0.15  , -0.1392, -0.2   , -0.1015, -0.14  , -0.2439, -0.29  ,\n",
              "       -0.1168, -0.17  , -0.0686, -0.09  , -0.1003, -0.15  , -0.2985,\n",
              "       -0.36  , -0.1774, -0.21  , -0.1546, -0.21  , -0.0667, -0.1   ,\n",
              "       -0.1481, -0.21  , -0.2486, -0.28  , -0.2156, -0.24  , -0.2304,\n",
              "       -0.28  , -0.1485, -0.21  , -0.2105, -0.27  , -0.2055, -0.22  ,\n",
              "       -0.2084, -0.26  , -0.3146, -0.4   , -0.293 , -0.34  , -0.0693,\n",
              "       -0.11  , -0.1395, -0.16  , -0.3162, -0.34  , -0.3288, -0.35  ,\n",
              "       -0.4332, -0.44  , -0.3789, -0.42  , -0.4261, -0.47  , -0.4396,\n",
              "       -0.43  , -0.3706, -0.4   , -0.2174, -0.23  , -0.2931, -0.28  ,\n",
              "       -0.4194, -0.44  , -0.3369, -0.35  , -0.2463, -0.27  , -0.1417,\n",
              "       -0.15  , -0.0679, -0.09  , -0.1173, -0.16  , -0.2546, -0.28  ,\n",
              "       -0.1224, -0.11  , -0.0974, -0.15  , -0.229 , -0.21  , -0.2808,\n",
              "       -0.31  , -0.3212, -0.3   , -0.3062, -0.27  , -0.2532, -0.24  ,\n",
              "       -0.322 , -0.37  , -0.0982, -0.12  , -0.1471, -0.2   , -0.2489,\n",
              "       -0.33  , -0.2003, -0.31  , -0.2125, -0.32  , -0.2009, -0.28  ,\n",
              "       -0.1424, -0.21  , -0.0648, -0.1   , -0.0628, -0.12  , -0.1148,\n",
              "       -0.2   ])"
            ]
          },
          "metadata": {},
          "execution_count": 8
        }
      ]
    },
    {
      "cell_type": "code",
      "source": [
        "#Applying regressor\n",
        "from sklearn.linear_model import LinearRegression\n",
        "model = LinearRegression()"
      ],
      "metadata": {
        "id": "ar5U-qHQ9th3"
      },
      "execution_count": 10,
      "outputs": []
    },
    {
      "cell_type": "code",
      "source": [
        "#LinearRegression.fit(x,y)\n",
        "model.fit(x,y)"
      ],
      "metadata": {
        "colab": {
          "base_uri": "https://localhost:8080/",
          "height": 0
        },
        "id": "XCd2aS4B92fr",
        "outputId": "eeff98b0-dbde-40c4-b892-ea0514c85d48"
      },
      "execution_count": 11,
      "outputs": [
        {
          "output_type": "execute_result",
          "data": {
            "text/plain": [
              "LinearRegression()"
            ]
          },
          "metadata": {},
          "execution_count": 11
        }
      ]
    },
    {
      "cell_type": "code",
      "source": [
        "#Predict the Output/Predictor Variable\n",
        "y_pred = model.predict(x) #Using the input values , we predict the Output\n",
        "y_pred #Predicted Output"
      ],
      "metadata": {
        "colab": {
          "base_uri": "https://localhost:8080/",
          "height": 0
        },
        "id": "ThpQuD-H-LYe",
        "outputId": "b9fb9c28-31c3-4b13-b9cf-cb406a4abf75"
      },
      "execution_count": 12,
      "outputs": [
        {
          "output_type": "execute_result",
          "data": {
            "text/plain": [
              "array([ 0.51171944,  0.51171944,  0.50473221,  0.50473221,  0.49774498,\n",
              "        0.49774498,  0.49075776,  0.49075776,  0.48377053,  0.48377053,\n",
              "        0.4767833 ,  0.4767833 ,  0.46979607,  0.46979607,  0.46280884,\n",
              "        0.46280884,  0.45582162,  0.45582162,  0.44883439,  0.44883439,\n",
              "        0.44184716,  0.44184716,  0.43485993,  0.43485993,  0.42787271,\n",
              "        0.42787271,  0.42088548,  0.42088548,  0.41389825,  0.41389825,\n",
              "        0.40691102,  0.40691102,  0.3999238 ,  0.3999238 ,  0.39293657,\n",
              "        0.39293657,  0.38594934,  0.38594934,  0.37896211,  0.37896211,\n",
              "        0.37197488,  0.37197488,  0.36498766,  0.36498766,  0.35800043,\n",
              "        0.35800043,  0.3510132 ,  0.3510132 ,  0.34402597,  0.34402597,\n",
              "        0.33703875,  0.33703875,  0.33005152,  0.33005152,  0.32306429,\n",
              "        0.32306429,  0.31607706,  0.31607706,  0.30908984,  0.30908984,\n",
              "        0.30210261,  0.30210261,  0.29511538,  0.29511538,  0.28812815,\n",
              "        0.28812815,  0.28114092,  0.28114092,  0.2741537 ,  0.2741537 ,\n",
              "        0.26716647,  0.26716647,  0.26017924,  0.26017924,  0.25319201,\n",
              "        0.25319201,  0.24620479,  0.24620479,  0.23921756,  0.23921756,\n",
              "        0.23223033,  0.23223033,  0.2252431 ,  0.2252431 ,  0.21825588,\n",
              "        0.21825588,  0.21126865,  0.21126865,  0.20428142,  0.20428142,\n",
              "        0.19729419,  0.19729419,  0.19030697,  0.19030697,  0.18331974,\n",
              "        0.18331974,  0.17633251,  0.17633251,  0.16934528,  0.16934528,\n",
              "        0.16235805,  0.16235805,  0.15537083,  0.15537083,  0.1483836 ,\n",
              "        0.1483836 ,  0.14139637,  0.14139637,  0.13440914,  0.13440914,\n",
              "        0.12742192,  0.12742192,  0.12043469,  0.12043469,  0.11344746,\n",
              "        0.11344746,  0.10646023,  0.10646023,  0.09947301,  0.09947301,\n",
              "        0.09248578,  0.09248578,  0.08549855,  0.08549855,  0.07851132,\n",
              "        0.07851132,  0.07152409,  0.07152409,  0.06453687,  0.06453687,\n",
              "        0.05754964,  0.05754964,  0.05056241,  0.05056241,  0.04357518,\n",
              "        0.04357518,  0.03658796,  0.03658796,  0.02960073,  0.02960073,\n",
              "        0.0226135 ,  0.0226135 ,  0.01562627,  0.01562627,  0.00863905,\n",
              "        0.00863905,  0.00165182,  0.00165182, -0.00533541, -0.00533541,\n",
              "       -0.01232264, -0.01232264, -0.01930987, -0.01930987, -0.02629709,\n",
              "       -0.02629709, -0.03328432, -0.03328432, -0.04027155, -0.04027155,\n",
              "       -0.04725878, -0.04725878, -0.054246  , -0.054246  , -0.06123323,\n",
              "       -0.06123323, -0.06822046, -0.06822046, -0.07520769, -0.07520769,\n",
              "       -0.08219491, -0.08219491, -0.08918214, -0.08918214, -0.09616937,\n",
              "       -0.09616937, -0.1031566 , -0.1031566 , -0.11014383, -0.11014383,\n",
              "       -0.11713105, -0.11713105, -0.12411828, -0.12411828, -0.13110551,\n",
              "       -0.13110551, -0.13809274, -0.13809274, -0.14507996, -0.14507996,\n",
              "       -0.15206719, -0.15206719, -0.15905442, -0.15905442, -0.16604165,\n",
              "       -0.16604165, -0.17302887, -0.17302887, -0.1800161 , -0.1800161 ,\n",
              "       -0.18700333, -0.18700333, -0.19399056, -0.19399056, -0.20097778,\n",
              "       -0.20097778, -0.20796501, -0.20796501, -0.21495224, -0.21495224,\n",
              "       -0.22193947, -0.22193947, -0.2289267 , -0.2289267 , -0.23591392,\n",
              "       -0.23591392, -0.24290115, -0.24290115, -0.24988838, -0.24988838,\n",
              "       -0.25687561, -0.25687561, -0.26386283, -0.26386283, -0.27085006,\n",
              "       -0.27085006, -0.27783729, -0.27783729, -0.28482452, -0.28482452,\n",
              "       -0.29181174, -0.29181174, -0.29879897, -0.29879897, -0.3057862 ,\n",
              "       -0.3057862 , -0.31277343, -0.31277343, -0.31976066, -0.31976066,\n",
              "       -0.32674788, -0.32674788, -0.33373511, -0.33373511, -0.34072234,\n",
              "       -0.34072234, -0.34770957, -0.34770957, -0.35469679, -0.35469679,\n",
              "       -0.36168402, -0.36168402, -0.36867125, -0.36867125, -0.37565848,\n",
              "       -0.37565848, -0.3826457 , -0.3826457 , -0.38963293, -0.38963293,\n",
              "       -0.39662016, -0.39662016, -0.40360739, -0.40360739, -0.41059462,\n",
              "       -0.41059462, -0.41758184, -0.41758184, -0.42456907, -0.42456907,\n",
              "       -0.4315563 , -0.4315563 , -0.43854353, -0.43854353])"
            ]
          },
          "metadata": {},
          "execution_count": 12
        }
      ]
    },
    {
      "cell_type": "code",
      "source": [
        "y"
      ],
      "metadata": {
        "colab": {
          "base_uri": "https://localhost:8080/",
          "height": 0
        },
        "id": "bBK9ZnAn-XwJ",
        "outputId": "cd942997-4ec2-48fd-a52c-2472a7dbd49c"
      },
      "execution_count": 13,
      "outputs": [
        {
          "output_type": "execute_result",
          "data": {
            "text/plain": [
              "array([ 0.9363,  0.99  ,  0.8998,  0.87  ,  0.7408,  0.74  ,  0.6679,\n",
              "        0.65  ,  0.624 ,  0.63  ,  0.5788,  0.6   ,  0.7014,  0.71  ,\n",
              "        0.6367,  0.64  ,  0.5419,  0.54  ,  0.61  ,  0.66  ,  0.6125,\n",
              "        0.63  ,  0.6585,  0.69  ,  0.5783,  0.55  ,  0.6134,  0.62  ,\n",
              "        0.6023,  0.63  ,  0.5473,  0.55  ,  0.4262,  0.42  ,  0.4438,\n",
              "        0.42  ,  0.6344,  0.64  ,  0.5187,  0.48  ,  0.3228,  0.35  ,\n",
              "        0.4577,  0.46  ,  0.3409,  0.32  ,  0.2853,  0.24  ,  0.2571,\n",
              "        0.23  ,  0.4055,  0.43  ,  0.4328,  0.44  ,  0.297 ,  0.29  ,\n",
              "        0.3757,  0.41  ,  0.3696,  0.33  ,  0.2296,  0.19  ,  0.1342,\n",
              "        0.12  ,  0.149 ,  0.15  ,  0.3411,  0.3   ,  0.1815,  0.13  ,\n",
              "        0.2999,  0.33  ,  0.2637,  0.27  ,  0.2273,  0.17  ,  0.1123,\n",
              "        0.07  ,  0.1978,  0.18  , -0.0792, -0.11  ,  0.0034, -0.02  ,\n",
              "       -0.0719, -0.07  ,  0.1641,  0.15  ,  0.0264,  0.01  , -0.0783,\n",
              "       -0.09  ,  0.0372,  0.02  ,  0.0929,  0.07  , -0.0296, -0.07  ,\n",
              "       -0.0131, -0.02  , -0.0227, -0.05  , -0.078 , -0.1   , -0.1495,\n",
              "       -0.2   ,  0.1068,  0.06  ,  0.0888,  0.03  ,  0.0775,  0.05  ,\n",
              "        0.0204, -0.02  ,  0.0596,  0.03  ,  0.1095,  0.07  ,  0.0488,\n",
              "        0.04  , -0.199 , -0.2   , -0.1354, -0.15  , -0.1165, -0.13  ,\n",
              "        0.0952,  0.08  ,  0.0248,  0.01  , -0.0132, -0.07  , -0.1616,\n",
              "       -0.18  , -0.0568, -0.09  , -0.0487, -0.09  , -0.0477, -0.05  ,\n",
              "       -0.004 , -0.04  ,  0.171 ,  0.12  ,  0.2928,  0.25  ,  0.157 ,\n",
              "        0.13  ,  0.1538,  0.09  ,  0.196 ,  0.12  ,  0.0947,  0.08  ,\n",
              "       -0.0139, -0.03  , -0.0288, -0.03  , -0.0157, -0.03  , -0.1134,\n",
              "       -0.15  , -0.1392, -0.2   , -0.1015, -0.14  , -0.2439, -0.29  ,\n",
              "       -0.1168, -0.17  , -0.0686, -0.09  , -0.1003, -0.15  , -0.2985,\n",
              "       -0.36  , -0.1774, -0.21  , -0.1546, -0.21  , -0.0667, -0.1   ,\n",
              "       -0.1481, -0.21  , -0.2486, -0.28  , -0.2156, -0.24  , -0.2304,\n",
              "       -0.28  , -0.1485, -0.21  , -0.2105, -0.27  , -0.2055, -0.22  ,\n",
              "       -0.2084, -0.26  , -0.3146, -0.4   , -0.293 , -0.34  , -0.0693,\n",
              "       -0.11  , -0.1395, -0.16  , -0.3162, -0.34  , -0.3288, -0.35  ,\n",
              "       -0.4332, -0.44  , -0.3789, -0.42  , -0.4261, -0.47  , -0.4396,\n",
              "       -0.43  , -0.3706, -0.4   , -0.2174, -0.23  , -0.2931, -0.28  ,\n",
              "       -0.4194, -0.44  , -0.3369, -0.35  , -0.2463, -0.27  , -0.1417,\n",
              "       -0.15  , -0.0679, -0.09  , -0.1173, -0.16  , -0.2546, -0.28  ,\n",
              "       -0.1224, -0.11  , -0.0974, -0.15  , -0.229 , -0.21  , -0.2808,\n",
              "       -0.31  , -0.3212, -0.3   , -0.3062, -0.27  , -0.2532, -0.24  ,\n",
              "       -0.322 , -0.37  , -0.0982, -0.12  , -0.1471, -0.2   , -0.2489,\n",
              "       -0.33  , -0.2003, -0.31  , -0.2125, -0.32  , -0.2009, -0.28  ,\n",
              "       -0.1424, -0.21  , -0.0648, -0.1   , -0.0628, -0.12  , -0.1148,\n",
              "       -0.2   ])"
            ]
          },
          "metadata": {},
          "execution_count": 13
        }
      ]
    },
    {
      "cell_type": "code",
      "source": [
        "model.predict([[2050]])"
      ],
      "metadata": {
        "colab": {
          "base_uri": "https://localhost:8080/",
          "height": 0
        },
        "id": "0naJxCuz-Y9V",
        "outputId": "3f27122e-0d41-4e36-9a31-855193ed9c94"
      },
      "execution_count": 14,
      "outputs": [
        {
          "output_type": "execute_result",
          "data": {
            "text/plain": [
              "array([0.74928518])"
            ]
          },
          "metadata": {},
          "execution_count": 14
        }
      ]
    },
    {
      "cell_type": "code",
      "source": [
        "m = model.coef_ # slope\n",
        "m"
      ],
      "metadata": {
        "colab": {
          "base_uri": "https://localhost:8080/",
          "height": 0
        },
        "id": "K12TVpYb-iIK",
        "outputId": "816cf895-8576-47b0-a1ff-d4e9e3b94bdd"
      },
      "execution_count": 15,
      "outputs": [
        {
          "output_type": "execute_result",
          "data": {
            "text/plain": [
              "array([0.00698723])"
            ]
          },
          "metadata": {},
          "execution_count": 15
        }
      ]
    },
    {
      "cell_type": "code",
      "source": [
        "C = model.intercept_ # Y -intercept/constant\n",
        "C"
      ],
      "metadata": {
        "colab": {
          "base_uri": "https://localhost:8080/",
          "height": 0
        },
        "id": "jMGa60rE-ppP",
        "outputId": "1db83822-8767-43f4-9f3b-268551a3ae80"
      },
      "execution_count": 16,
      "outputs": [
        {
          "output_type": "execute_result",
          "data": {
            "text/plain": [
              "-13.574531559542251"
            ]
          },
          "metadata": {},
          "execution_count": 16
        }
      ]
    },
    {
      "cell_type": "code",
      "source": [
        "m * 2050 + C"
      ],
      "metadata": {
        "colab": {
          "base_uri": "https://localhost:8080/",
          "height": 0
        },
        "id": "zr5V86Jn-vu2",
        "outputId": "93d1930c-af28-40f9-9478-ec53fe5c5b55"
      },
      "execution_count": 17,
      "outputs": [
        {
          "output_type": "execute_result",
          "data": {
            "text/plain": [
              "array([0.74928518])"
            ]
          },
          "metadata": {},
          "execution_count": 17
        }
      ]
    },
    {
      "cell_type": "code",
      "source": [
        "plt.scatter(x,y)\n",
        "plt.plot(x,y_pred,c = 'red')\n",
        "plt.title('Best fit line')"
      ],
      "metadata": {
        "colab": {
          "base_uri": "https://localhost:8080/",
          "height": 298
        },
        "id": "3mtuXzzR-39-",
        "outputId": "7bd365a6-5b4a-428d-895c-b19a912b6c23"
      },
      "execution_count": 19,
      "outputs": [
        {
          "output_type": "execute_result",
          "data": {
            "text/plain": [
              "Text(0.5, 1.0, 'Best fit line')"
            ]
          },
          "metadata": {},
          "execution_count": 19
        },
        {
          "output_type": "display_data",
          "data": {
            "text/plain": [
              "<Figure size 432x288 with 1 Axes>"
            ],
            "image/png": "[encoded data removed]"
          },
          "metadata": {
            "needs_background": "light"
          }
        }
      ]
    },
    {
      "cell_type": "code",
      "source": [],
      "metadata": {
        "id": "lnM-kxO5--_J"
      },
      "execution_count": null,
      "outputs": []
    }
  ]
}